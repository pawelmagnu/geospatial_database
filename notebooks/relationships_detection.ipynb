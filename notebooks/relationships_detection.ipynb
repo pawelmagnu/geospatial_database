{
 "cells": [
  {
   "metadata": {},
   "cell_type": "code",
   "source": [
    "import pandas as pd\n",
    "import geopandas as gpd\n",
    "from IPython.terminal.pt_inputhooks.osx import void_p\n",
    "from shapely import wkt\n",
    "from shapely.geometry import Point, Polygon, MultiPolygon, LineString\n",
    "from scipy.spatial import cKDTree\n",
    "\n",
    "import numpy as np\n",
    "import ast\n"
   ],
   "id": "8e20ad78bf9496d6",
   "outputs": [],
   "execution_count": null
  },
  {
   "metadata": {},
   "cell_type": "code",
   "source": [
    "cities_df = gpd.read_file('data/ads24-cities.csv')\n",
    "communes_df = gpd.read_file('data/ads24-communes.csv')\n",
    "countries_df = gpd.read_file('data/ads24-countries.csv')\n",
    "powiats_df = gpd.read_file('data/ads24-powiats.csv')\n",
    "voivodships_df = gpd.read_file('data/ads24-voivodships.csv')\n",
    "roads_df = gpd.read_file('data/ads24-roads.csv')\n",
    "railways_df = gpd.read_file('data/ads24-railways.csv')\n",
    "buildings_df = gpd.read_file('data/ads24-buildings.csv')\n",
    "trees_df = gpd.read_file('data/ads24-trees.csv')"
   ],
   "id": "f3c1c19adb4048ae",
   "outputs": [],
   "execution_count": null
  },
  {
   "metadata": {},
   "cell_type": "code",
   "source": [
    "# cities_gdf = gpd.GeoDataFrame(cities_df, geometry='geometry', crs='EPSG:4326')\n",
    "# communes_gdf = gpd.GeoDataFrame(communes_df, geometry='geometry', crs='EPSG:4326')\n",
    "# countries_gdf = gpd.GeoDataFrame(countries_df, geometry='geometry', crs='EPSG:4326')\n",
    "# powiats_gdf = gpd.GeoDataFrame(powiats_df, geometry='geometry', crs='EPSG:4326')\n",
    "# voivodships_gdf = gpd.GeoDataFrame(voivodships_df, geometry='geometry', crs='EPSG:4326')\n",
    "# roads_gdf = gpd.GeoDataFrame(roads_df, geometry='geometry', crs='EPSG:4326')\n",
    "# railways_gdf = gpd.GeoDataFrame(railways_df, geometry='geometry', crs='EPSG:4326')\n",
    "# buildings_gdf = gpd.GeoDataFrame(buildings_df, geometry='geometry', crs='EPSG:4326')\n",
    "# trees_gdf = gpd.GeoDataFrame(trees_df, geometry='geometry', crs='EPSG:4326')"
   ],
   "id": "85705c6a7ecb3956",
   "outputs": [],
   "execution_count": null
  },
  {
   "metadata": {},
   "cell_type": "markdown",
   "source": "## 1. Cities which are within commune boundaries",
   "id": "1d2d5bb955ed693e"
  },
  {
   "metadata": {},
   "cell_type": "code",
   "source": "# cities_gdf",
   "id": "ac1496557fb9da2f",
   "outputs": [],
   "execution_count": null
  },
  {
   "metadata": {},
   "cell_type": "code",
   "source": "# communes_gdf",
   "id": "1990bb7a289840f8",
   "outputs": [],
   "execution_count": null
  },
  {
   "metadata": {},
   "cell_type": "code",
   "source": [
    "cities_df['geometry'] = cities_df['wkt'].apply(wkt.loads)\n",
    "communes_df['geometry'] = communes_df['wkt'].apply(wkt.loads)"
   ],
   "id": "a999b2e5c559d435",
   "outputs": [],
   "execution_count": null
  },
  {
   "metadata": {},
   "cell_type": "code",
   "source": [
    "cities_gdf = gpd.GeoDataFrame(cities_df, geometry='geometry', crs='EPSG:4326')\n",
    "communes_gdf = gpd.GeoDataFrame(communes_df, geometry='geometry', crs='EPSG:4326')"
   ],
   "id": "e1fe94e28f72f00c",
   "outputs": [],
   "execution_count": null
  },
  {
   "metadata": {},
   "cell_type": "code",
   "source": "type(cities_gdf)",
   "id": "7ede54b15fac553",
   "outputs": [],
   "execution_count": null
  },
  {
   "metadata": {},
   "cell_type": "code",
   "source": [
    "#ennsure geometries are either Polygon or MultiPolygon\n",
    "cities_gdf['geometry'] = cities_gdf['geometry'].apply(\n",
    "    lambda geom: Polygon(list(geom.coords)) if isinstance(geom, LineString) else\n",
    "    MultiPolygon([Polygon(list(line.coords)) for line in geom.geoms]) if isinstance(geom, MultiPolygon) else geom\n",
    ")\n",
    "\n",
    "communes_gdf['geometry'] = communes_gdf['geometry'].apply(\n",
    "    lambda geom: Polygon(list(geom.coords)) if isinstance(geom, LineString) else\n",
    "    MultiPolygon([Polygon(list(line.coords)) for line in geom.geoms]) if isinstance(geom, MultiPolygon) else geom\n",
    ")"
   ],
   "id": "61a0d755f2fd2a13",
   "outputs": [],
   "execution_count": null
  },
  {
   "metadata": {},
   "cell_type": "code",
   "source": [
    "cities_within_communes = gpd.sjoin(cities_gdf, communes_gdf, predicate='within')\n",
    "cities_within_communes"
   ],
   "id": "7c74bc25db699d12",
   "outputs": [],
   "execution_count": null
  },
  {
   "metadata": {},
   "cell_type": "code",
   "source": [
    "# # the correct sql query is CREATE EDGE within FROM (SELECT FROM region WHERE name = 'gmina Swarzędz' and type = \"country\") TO(SELECT FROM region WHERE name='Swarędz' and type='country')\n",
    "#\n",
    "# with open('city_within_commune.sql', 'w', encoding=\"utf-8\") as f:\n",
    "#     for index, row in cities_within_communes.iterrows():\n",
    "#         f.write(f\"CREATE EDGE within FROM (SELECT FROM region WHERE name = '{row['name_left']}' and type='city') TO(SELECT FROM region WHERE name='{row['name_right']}' and type='commune') UNIDIRECTIONAL;\\n\")"
   ],
   "id": "148a13bc655a2193",
   "outputs": [],
   "execution_count": null
  },
  {
   "metadata": {},
   "cell_type": "markdown",
   "source": "## 2. Communes which are within powiat boundaries",
   "id": "8623e4d05ba095b0"
  },
  {
   "metadata": {},
   "cell_type": "code",
   "source": "powiats_df['geometry'] = powiats_df['wkt'].apply(wkt.loads)",
   "id": "6299b020f9de4691",
   "outputs": [],
   "execution_count": null
  },
  {
   "metadata": {},
   "cell_type": "code",
   "source": "powiats_gdf = gpd.GeoDataFrame(powiats_df, geometry='geometry', crs='EPSG:4326')",
   "id": "e2514ffeaebf65b8",
   "outputs": [],
   "execution_count": null
  },
  {
   "metadata": {},
   "cell_type": "code",
   "source": [
    "communes_gdf['geometry'] = communes_gdf['geometry'].apply(\n",
    "    lambda geom: Polygon(list(geom.coords)) if isinstance(geom, LineString) else\n",
    "    MultiPolygon([Polygon(list(line.coords)) for line in geom.geoms]) if isinstance(geom, MultiPolygon) else geom\n",
    ")\n",
    "\n",
    "powiats_gdf['geometry'] = powiats_gdf['geometry'].apply(\n",
    "    lambda geom: Polygon(list(geom.coords)) if isinstance(geom, LineString) else\n",
    "    MultiPolygon([Polygon(list(line.coords)) for line in geom.geoms]) if isinstance(geom, MultiPolygon) else geom\n",
    ")"
   ],
   "id": "72861e60a0808517",
   "outputs": [],
   "execution_count": null
  },
  {
   "metadata": {},
   "cell_type": "code",
   "source": [
    "communes_within_powiats = gpd.sjoin(communes_gdf, powiats_gdf, predicate='within')\n",
    "communes_within_powiats"
   ],
   "id": "d15398e6d7326c6d",
   "outputs": [],
   "execution_count": null
  },
  {
   "metadata": {},
   "cell_type": "code",
   "source": [
    "# the correct sql query is CREATE EDGE within FROM (SELECT FROM region WHERE name = 'gmina Swarzędz' and type = \"country\") TO(SELECT FROM region WHERE name='Swarędz' and type='country')\n",
    "\n",
    "with open('commune_within_powiat.sql', 'w', encoding=\"utf-8\") as f:\n",
    "    for index, row in communes_within_powiats.iterrows():\n",
    "        f.write(f\"CREATE EDGE within FROM (SELECT FROM region WHERE name = '{row['name_left']}' and type='commune') TO(SELECT FROM region WHERE name='{row['name_right']}' and type='powiat') UNIDIRECTIONAL;\\n\")"
   ],
   "id": "5c3f63621ca38753",
   "outputs": [],
   "execution_count": null
  },
  {
   "metadata": {},
   "cell_type": "markdown",
   "source": "## 3. Powiats which are within voivodship boundaries",
   "id": "3be2863bc77addea"
  },
  {
   "metadata": {},
   "cell_type": "code",
   "source": "voivodships_df['geometry'] = voivodships_df['wkt'].apply(wkt.loads)\n",
   "id": "c6934e9ba83ab588",
   "outputs": [],
   "execution_count": null
  },
  {
   "metadata": {},
   "cell_type": "code",
   "source": "voivodships_gdf = gpd.GeoDataFrame(voivodships_df, geometry='geometry', crs='EPSG:4326')\n",
   "id": "3d6ac2caefcbee82",
   "outputs": [],
   "execution_count": null
  },
  {
   "metadata": {},
   "cell_type": "code",
   "source": [
    "powiats_gdf['geometry'] = powiats_gdf['geometry'].apply(\n",
    "    lambda geom: Polygon(list(geom.coords)) if isinstance(geom, LineString) else\n",
    "    MultiPolygon([Polygon(list(line.coords)) for line in geom.geoms]) if isinstance(geom, MultiPolygon) else geom\n",
    ")\n",
    "\n",
    "voivodships_gdf['geometry'] = voivodships_gdf['geometry'].apply(\n",
    "    lambda geom: Polygon(list(geom.coords)) if isinstance(geom, LineString) else\n",
    "    MultiPolygon([Polygon(list(line.coords)) for line in geom.geoms]) if isinstance(geom, MultiPolygon) else geom\n",
    ")"
   ],
   "id": "b164abf327e87f36",
   "outputs": [],
   "execution_count": null
  },
  {
   "metadata": {},
   "cell_type": "code",
   "source": [
    "powiats_within_voivodships = gpd.sjoin(powiats_gdf, voivodships_gdf, predicate='within')\n",
    "powiats_within_voivodships\n"
   ],
   "id": "6ef6666f52d79fa7",
   "outputs": [],
   "execution_count": null
  },
  {
   "metadata": {},
   "cell_type": "code",
   "source": [
    "# the correct sql query is CREATE EDGE within FROM (SELECT FROM region WHERE name = 'gmina Swarzędz' and type = \"country\") TO(SELECT FROM region WHERE name='Swarędz' and type='country')\n",
    "\n",
    "with open('powiat_within_voivodship.sql', 'w', encoding=\"utf-8\") as f:\n",
    "    for index, row in powiats_within_voivodships.iterrows():\n",
    "        f.write(f\"CREATE EDGE within FROM (SELECT FROM region WHERE name = '{row['name_left']}' and type='powiat') TO(SELECT FROM region WHERE name='{row['name_right']}' and type='voivodship') UNIDIRECTIONAL;\\n\")"
   ],
   "id": "3f9a8d067666cb8e",
   "outputs": [],
   "execution_count": null
  },
  {
   "metadata": {},
   "cell_type": "markdown",
   "source": "## 4. Voivodship which are within country boundaries",
   "id": "f9e836d9f2a40f37"
  },
  {
   "metadata": {},
   "cell_type": "markdown",
   "source": "",
   "id": "96df2a2948c9da1c"
  },
  {
   "metadata": {},
   "cell_type": "code",
   "source": "countries_df['geometry'] = countries_df['wkt'].apply(wkt.loads)",
   "id": "cc8352842dfcebe",
   "outputs": [],
   "execution_count": null
  },
  {
   "metadata": {},
   "cell_type": "code",
   "source": "countries_gdf = gpd.GeoDataFrame(countries_df, geometry='geometry', crs='EPSG:4326')",
   "id": "fd43f6d9b278a9d7",
   "outputs": [],
   "execution_count": null
  },
  {
   "metadata": {},
   "cell_type": "code",
   "source": [
    "voivodships_gdf['geometry'] = voivodships_gdf['geometry'].apply(lambda geom: Polygon(list(geom.coords)) if isinstance(geom, LineString) else MultiPolygon([Polygon(list(line.coords)) for line in geom.geoms]))\n",
    "countries_gdf['geometry'] = countries_gdf['geometry'].apply(lambda geom: Polygon(list(geom.coords)) if isinstance(geom, LineString) else MultiPolygon([Polygon(list(line.coords)) for line in geom.geoms]))\n",
    "\n"
   ],
   "id": "7a1a25e09a0cd6d9",
   "outputs": [],
   "execution_count": null
  },
  {
   "metadata": {},
   "cell_type": "code",
   "source": [
    "voiv_within_countries = gpd.sjoin(voivodships_gdf, countries_gdf, predicate='within')\n",
    "voiv_within_countries"
   ],
   "id": "b68cd7350c8b7ff8",
   "outputs": [],
   "execution_count": null
  },
  {
   "metadata": {},
   "cell_type": "code",
   "source": [
    "# the correct sql query is CREATE EDGE within FROM (SELECT FROM region WHERE name = 'gmina Swarzędz' and type = \"country\") TO(SELECT FROM region WHERE name='Swarędz' and type='country')\n",
    "\n",
    "with open('voivodship_within_country.sql', 'w', encoding=\"utf-8\") as f:\n",
    "    for index, row in communes_within_powiats.iterrows():\n",
    "        f.write(f\"CREATE EDGE within FROM (SELECT FROM region WHERE name = '{row['name_left']}' and type='voivodship') TO(SELECT FROM region WHERE name='{row['name_right']}' and type='country') UNIDIRECTIONAL;\\n\")"
   ],
   "id": "b91a850dfa1ed9d8",
   "outputs": [],
   "execution_count": null
  },
  {
   "metadata": {},
   "cell_type": "markdown",
   "source": "## 5. Neighbouring (adjacent) communes",
   "id": "dfc3ab16f7862606"
  },
  {
   "metadata": {},
   "cell_type": "code",
   "source": [
    "communes_nei_communes = gpd.sjoin(communes_gdf, communes_gdf, predicate='intersects')\n",
    "communes_nei_communes"
   ],
   "id": "af1cacdbb0776db4",
   "outputs": [],
   "execution_count": null
  },
  {
   "metadata": {},
   "cell_type": "code",
   "source": [
    "with open('commune_nei_commune.sql', 'w', encoding=\"utf-8\") as f:\n",
    "    for index, row in communes_nei_communes.iterrows():\n",
    "        f.write(f\"CREATE EDGE within FROM (SELECT FROM region WHERE name = '{row['name_left']}' and type='commune') TO(SELECT FROM region WHERE name='{row['name_right']}' and type='commune') UNIDIRECTIONAL;\\n\")"
   ],
   "id": "f8a9b93a2e8ace25",
   "outputs": [],
   "execution_count": null
  },
  {
   "metadata": {},
   "cell_type": "markdown",
   "source": "## 6. All neighbouring buildings not further than 500 meters apart; attributes: distance(meters)",
   "id": "549d952cd1f368c8"
  },
  {
   "metadata": {},
   "cell_type": "code",
   "source": "cities_within_communes = cities_within_communes[['name_left', 'name_right']]",
   "id": "9be681341877cf62",
   "outputs": [],
   "execution_count": null
  },
  {
   "metadata": {},
   "cell_type": "code",
   "source": "cities_within_communes.reset_index(drop=True, inplace=True)",
   "id": "496afbd03f097160",
   "outputs": [],
   "execution_count": null
  },
  {
   "metadata": {},
   "cell_type": "code",
   "source": "cities_within_communes",
   "id": "e19240b72cf3eadc",
   "outputs": [],
   "execution_count": null
  },
  {
   "metadata": {},
   "cell_type": "code",
   "source": [
    "# Filter out invalid WKT strings\n",
    "valid_geometries = buildings_df['wkt'].str.contains(r'^(POINT|LINESTRING|POLYGON)', na=False)\n",
    "if not valid_geometries.all():\n",
    "    print(\"Warning: Some rows contain invalid WKT strings. These will be excluded.\")\n",
    "data = buildings_df[valid_geometries]\n",
    "\n",
    "try:\n",
    "    data['geometry'] = gpd.GeoSeries.from_wkt(data['wkt'])\n",
    "except Exception as e:\n",
    "    print(\"Error during WKT conversion:\", e)\n",
    "    exit()\n"
   ],
   "id": "767ada9861ee7b76",
   "outputs": [],
   "execution_count": null
  },
  {
   "metadata": {},
   "cell_type": "code",
   "source": [
    "# Create GeoDataFrame\n",
    "gdf = gpd.GeoDataFrame(data, geometry='geometry')\n",
    "\n",
    "# Define CRS (assuming WGS84, EPSG:4326; change if necessary)\n",
    "gdf.set_crs(epsg=4326, inplace=True)\n",
    "\n",
    "# Project to a metric CRS for distance calculations (e.g., UTM or EPSG:3857)\n",
    "gdf = gdf.to_crs(epsg=3857)"
   ],
   "id": "c96331e70ba7247d",
   "outputs": [],
   "execution_count": null
  },
  {
   "metadata": {},
   "cell_type": "code",
   "source": [
    "# Find neighbors within 500 meters\n",
    "neighbors = gdf.sindex.query_bulk(\n",
    "    gdf.geometry,\n",
    "    predicate='dwithin',\n",
    "    distance=500,\n",
    "    return_distance=True\n",
    ")"
   ],
   "id": "7ee033157a2dac58",
   "outputs": [],
   "execution_count": null
  },
  {
   "metadata": {},
   "cell_type": "code",
   "source": [
    "neighbor_data = {\n",
    "    \"building_1\": neighbors[0],\n",
    "    \"building_2\": neighbors[1],\n",
    "    \"distance_m\": neighbors[2]\n",
    "}"
   ],
   "id": "2d247861e2825c17",
   "outputs": [],
   "execution_count": null
  },
  {
   "metadata": {},
   "cell_type": "code",
   "source": [
    "neighbor_df = pd.DataFrame(neighbor_data)\n",
    "\n",
    "neighbor_df['building_1_id'] = neighbor_df['building_1'].apply(lambda x: gdf.iloc[x]['id'])\n",
    "neighbor_df['building_2_id'] = neighbor_df['building_2'].apply(lambda x: gdf.iloc[x]['id'])"
   ],
   "id": "fd5445be6a4d8aed",
   "outputs": [],
   "execution_count": null
  },
  {
   "metadata": {},
   "cell_type": "code",
   "source": "",
   "id": "8c1d6a0b5ad793b0",
   "outputs": [],
   "execution_count": null
  },
  {
   "metadata": {},
   "cell_type": "markdown",
   "source": [
    "## 7. All neighbouring trees not further than 50 meters apart; attributes: distance\n",
    "(meters)"
   ],
   "id": "f665d8691e3c068a"
  },
  {
   "metadata": {},
   "cell_type": "code",
   "source": [
    "trees_df['geometry'] = trees_df['wkt'].apply(wkt.loads)\n",
    "trees_gdf = gpd.GeoDataFrame(trees_df, geometry='geometry', crs='EPSG:4326')"
   ],
   "id": "f9fad91c23d5f310",
   "outputs": [],
   "execution_count": null
  },
  {
   "metadata": {},
   "cell_type": "code",
   "source": [
    "trees_gdf = trees_gdf.to_crs(epsg=3857)\n",
    "coords = trees_gdf.geometry.apply(lambda geom: (geom.x, geom.y)).to_list()"
   ],
   "id": "904c0e7308599dd3",
   "outputs": [],
   "execution_count": null
  },
  {
   "metadata": {},
   "cell_type": "code",
   "source": [
    "tree = cKDTree(coords)\n",
    "pairs = tree.query_pairs(r=50, output_type = 'ndarray')\n",
    "print(len(pairs))"
   ],
   "id": "d803bf3bd2598ba2",
   "outputs": [],
   "execution_count": null
  },
  {
   "metadata": {},
   "cell_type": "code",
   "source": [
    "df = gpd.GeoDataFrame({'id1': np.array((trees_gdf.iloc[pairs[:,0]]['id'])), 'id2': np.array((trees_gdf.iloc[pairs[:,1]]['id'])),'geo1': np.array((trees_gdf.iloc[pairs[:,0]]['geometry'])), 'geo2': np.array((trees_gdf.iloc[pairs[:,1]]['geometry']))})\n",
    "ser1 = gpd.GeoSeries(np.array((trees_gdf.iloc[pairs[:,0]]['geometry'])))\n",
    "ser2 = gpd.GeoSeries(np.array((trees_gdf.iloc[pairs[:,1]]['geometry'])))\n",
    "df['distance'] = ser1.distance(ser2)\n",
    "\n",
    "print(df['distance'])"
   ],
   "id": "64e25cf9355258e7",
   "outputs": [],
   "execution_count": null
  },
  {
   "metadata": {},
   "cell_type": "code",
   "source": "# f\"CREATE EDGE neighbouring FROM (SELECT FROM region WHERE id = '{row['id_left']}' and type='tree') TO(SELECT FROM region WHERE id='{row['id_right']}' and type='tree') UNIDIRECTIONAL;\\n\"",
   "id": "6344c4165043aac1",
   "outputs": [],
   "execution_count": null
  },
  {
   "metadata": {},
   "cell_type": "markdown",
   "source": "## 8. Trees which are not further than 20 meters from a road",
   "id": "2e0f84a0f586860e"
  },
  {
   "metadata": {},
   "cell_type": "code",
   "source": [
    "trees_df['geometry'] = trees_df['wkt'].apply(wkt.loads)\n",
    "roads_df['geometry'] = roads_df['wkt'].apply(wkt.loads)"
   ],
   "id": "71d8434bfe0c8004",
   "outputs": [],
   "execution_count": null
  },
  {
   "metadata": {},
   "cell_type": "code",
   "source": [
    "trees = gpd.GeoDataFrame(trees_df, geometry='geometry', crs='EPSG:4326')\n",
    "roads = gpd.GeoDataFrame(roads_df, geometry='geometry', crs='EPSG:4326')"
   ],
   "id": "31d96aecff28e0a6",
   "outputs": [],
   "execution_count": null
  },
  {
   "metadata": {},
   "cell_type": "code",
   "source": [
    "trees = trees.to_crs(\"EPSG:3857\")\n",
    "roads = roads.to_crs(\"EPSG:3857\")"
   ],
   "id": "c034bf5a4fbe47b7",
   "outputs": [],
   "execution_count": null
  },
  {
   "metadata": {},
   "cell_type": "code",
   "source": "roads['buffer'] = roads.geometry.buffer(20)",
   "id": "28f758021e6f5301",
   "outputs": [],
   "execution_count": null
  },
  {
   "metadata": {},
   "cell_type": "code",
   "source": [
    "trees = trees.set_geometry('geometry')\n",
    "roads = roads.set_geometry('buffer')"
   ],
   "id": "717c462da507b896",
   "outputs": [],
   "execution_count": null
  },
  {
   "metadata": {},
   "cell_type": "code",
   "source": "trees_near_roads = gpd.sjoin(trees, roads[['id', 'buffer']], how='inner', predicate='within')",
   "id": "1cf27643cc8fee8b",
   "outputs": [],
   "execution_count": null
  },
  {
   "metadata": {},
   "cell_type": "code",
   "source": "trees_near_roads",
   "id": "409a05b7182936d",
   "outputs": [],
   "execution_count": null
  },
  {
   "metadata": {},
   "cell_type": "code",
   "source": "# f\"CREATE EDGE neighbouring FROM (SELECT FROM region WHERE id = '{row['id_left']}' and type='road') TO(SELECT FROM region WHERE id='{row['id_right']}' and type='tree') UNIDIRECTIONAL;\\n\")",
   "id": "41a33247611926b6",
   "outputs": [],
   "execution_count": null
  },
  {
   "metadata": {},
   "cell_type": "markdown",
   "source": [
    "## 9. Roads which are connected through nodes; attributes: connecting node identifier,\n",
    "which part of one road is connected to the other road (start, mid, end)"
   ],
   "id": "3fee487927b70baf"
  },
  {
   "metadata": {},
   "cell_type": "code",
   "source": [
    "roads_df['geometry'] = roads_df['wkt'].apply(wkt.loads)\n",
    "\n",
    "gdf = gpd.GeoDataFrame(roads_df, geometry='geometry')"
   ],
   "id": "c9ec9421c9edcaea",
   "outputs": [],
   "execution_count": null
  },
  {
   "metadata": {},
   "cell_type": "code",
   "source": [
    "gdf['coords'] = gdf['geometry'].apply(lambda geom: list(geom.coords))\n",
    "exploded = gdf.explode('coords', ignore_index=True)\n",
    "exploded['coords'] = exploded['coords'].apply(Point)"
   ],
   "id": "7f3a69a852b61ab1",
   "outputs": [],
   "execution_count": null
  },
  {
   "metadata": {},
   "cell_type": "code",
   "source": "exploded['coords'] = exploded['coords'].apply(lambda point: (point.x, point.y))",
   "id": "fdb6b1c7de2f6950",
   "outputs": [],
   "execution_count": null
  },
  {
   "metadata": {},
   "cell_type": "code",
   "source": [
    "node_counts = exploded.groupby('coords').size().reset_index(name='count')\n",
    "shared_nodes = node_counts[node_counts['count'] > 1]['coords']"
   ],
   "id": "b179f0ec90ce25e4",
   "outputs": [],
   "execution_count": null
  },
  {
   "metadata": {},
   "cell_type": "code",
   "source": "exploded = exploded[exploded['coords'].isin(shared_nodes)]",
   "id": "ac53054b8550a3ce",
   "outputs": [],
   "execution_count": null
  },
  {
   "metadata": {},
   "cell_type": "code",
   "source": "exploded['road_id'] = exploded.index // exploded['coords'].map(len)",
   "id": "cc9d7cfb1e2198d3",
   "outputs": [],
   "execution_count": null
  },
  {
   "metadata": {},
   "cell_type": "code",
   "source": "exploded['position'] = exploded.groupby('road_id').cumcount()",
   "id": "8db904999b470f0b",
   "outputs": [],
   "execution_count": null
  },
  {
   "metadata": {},
   "cell_type": "code",
   "source": [
    "exploded['prev_coords'] = exploded.groupby('road_id')['coords'].shift(1)\n",
    "exploded['next_coords'] = exploded.groupby('road_id')['coords'].shift(-1)\n",
    "\n",
    "relations = exploded[exploded['coords'].isin(shared_nodes)]\n",
    "relations_df = relations[['road_id', 'coords', 'prev_coords', 'next_coords']]"
   ],
   "id": "1f52866a5d03cf7c",
   "outputs": [],
   "execution_count": null
  },
  {
   "metadata": {},
   "cell_type": "code",
   "source": [
    "relations_df = relations_df.dropna(subset=['prev_coords', 'next_coords'], how='all')\n",
    "\n",
    "def parse_coords(coords):\n",
    "    if pd.isna(coords):\n",
    "        return np.nan\n",
    "\n",
    "    coords = str(coords)\n",
    "\n",
    "    coords = coords.strip(\"()\")\n",
    "    return tuple(map(float, coords.split(\", \")))\n",
    "\n",
    "#apply the parsing function to 'coords', 'prev_coords', and 'next_coords'\n",
    "relations_df['coords'] = relations_df['coords'].apply(parse_coords)\n",
    "relations_df['prev_coords'] = relations_df['prev_coords'].apply(parse_coords)\n",
    "relations_df['next_coords'] = relations_df['next_coords'].apply(parse_coords)\n",
    "\n",
    "#group by 'road_id' and aggregate the data\n",
    "agg_df = relations_df.groupby('road_id').agg({\n",
    "    'coords': 'first',  # Keep the first coordinate for the group\n",
    "    'prev_coords': lambda x: next((i for i in x if pd.notna(i)), np.nan),  # First non-null prev_coords\n",
    "    'next_coords': lambda x: next((i for i in x if pd.notna(i)), np.nan)   # First non-null next_coords\n",
    "}).reset_index()\n",
    "\n",
    "print(agg_df)\n"
   ],
   "id": "ccc5dac2cec4e8c0",
   "outputs": [],
   "execution_count": null
  },
  {
   "metadata": {},
   "cell_type": "code",
   "source": "# f\"CREATE EDGE intersects FROM (SELECT FROM region WHERE id = '{row['id_left']}' and type='road') TO(SELECT FROM region WHERE id='{row['id_right']}' and type='road') UNIDIRECTIONAL;\\n\")",
   "id": "9f3120a1df62acfc",
   "outputs": [],
   "execution_count": null
  },
  {
   "metadata": {},
   "cell_type": "markdown",
   "source": "## 10. Railways which cross roads; attributes: angle\n",
   "id": "4fdb3a12c0add60f"
  },
  {
   "metadata": {},
   "cell_type": "code",
   "source": [
    "gdf_railways = gpd.GeoDataFrame(railways_df, geometry=gpd.GeoSeries.from_wkt(railways_df['wkt']))\n",
    "gdf_roads = gpd.GeoDataFrame(roads_df, geometry=gpd.GeoSeries.from_wkt(roads_df['wkt']))"
   ],
   "id": "cb70a12625ef102e",
   "outputs": [],
   "execution_count": null
  },
  {
   "metadata": {},
   "cell_type": "code",
   "source": [
    "gdf_railways.set_crs(epsg=4326, inplace=True)\n",
    "gdf_roads.set_crs(epsg=4326, inplace=True)"
   ],
   "id": "34a6adf9c3556f7f",
   "outputs": [],
   "execution_count": null
  },
  {
   "metadata": {},
   "cell_type": "code",
   "source": [
    "def get_segment_at_point(linestring, point, buffer_distance=1e-6):\n",
    "    point_buffer = point.buffer(buffer_distance)\n",
    "\n",
    "    intersection = linestring.intersection(point_buffer)\n",
    "\n",
    "    if intersection.is_empty:\n",
    "        return None\n",
    "\n",
    "    if intersection.geom_type == 'MultiLineString':\n",
    "        intersection = max(intersection.geoms, key=lambda x: x.length)\n",
    "\n",
    "    if intersection.geom_type != 'LineString':\n",
    "        return None\n",
    "\n",
    "    return intersection"
   ],
   "id": "1a56f68d431c1316",
   "outputs": [],
   "execution_count": null
  },
  {
   "metadata": {},
   "cell_type": "code",
   "source": [
    "def calculate_intersection_angle(railway_geom, road_geom):\n",
    "    intersection_point = railway_geom.intersection(road_geom)\n",
    "    if intersection_point.geom_type == 'MultiPoint':\n",
    "        intersection_point = intersection_point.geoms[0]\n",
    "    elif intersection_point.geom_type != 'Point':\n",
    "        return None\n",
    "\n",
    "    railway_segment = get_segment_at_point(railway_geom, intersection_point)\n",
    "    road_segment = get_segment_at_point(road_geom, intersection_point)\n",
    "\n",
    "    if railway_segment is None or road_segment is None:\n",
    "        return None\n",
    "\n",
    "    def get_vector(linestring):\n",
    "        coords = list(linestring.coords)\n",
    "        if len(coords) < 2:\n",
    "            return None\n",
    "        vector = np.array(coords[-1]) - np.array(coords[0])\n",
    "        return vector / np.linalg.norm(vector)\n",
    "\n",
    "    railway_vector = get_vector(railway_segment)\n",
    "    road_vector = get_vector(road_segment)\n",
    "\n",
    "    if railway_vector is None or road_vector is None:\n",
    "        return None\n",
    "\n",
    "    dot_product = np.clip(np.dot(railway_vector, road_vector), -1.0, 1.0)\n",
    "    angle_rad = np.arccos(dot_product)\n",
    "    angle_deg = np.degrees(angle_rad)\n",
    "\n",
    "    return min(angle_deg, 180 - angle_deg)"
   ],
   "id": "c2b6bd4ff8d3f81f",
   "outputs": [],
   "execution_count": null
  },
  {
   "metadata": {},
   "cell_type": "code",
   "source": "intersections = gpd.sjoin(gdf_railways, gdf_roads, how='inner', predicate='intersects')\n",
   "id": "c4fc3fd692c92e18",
   "outputs": [],
   "execution_count": null
  },
  {
   "metadata": {},
   "cell_type": "code",
   "source": [
    "intersection_angles = []\n",
    "for idx, row in intersections.iterrows():\n",
    "    railway_geom = row['geometry']\n",
    "    road_geom = gdf_roads.loc[row['index_right'], 'geometry']\n",
    "    angle = calculate_intersection_angle(railway_geom, road_geom)\n",
    "    intersection_angles.append(angle)\n",
    "\n",
    "intersections['angle'] = intersection_angles"
   ],
   "id": "d0422c7efa978379",
   "outputs": [],
   "execution_count": null
  },
  {
   "metadata": {},
   "cell_type": "code",
   "source": [
    "result_df = intersections[['id_left', 'id_right', 'angle']].copy()\n",
    "result_df = result_df.dropna()\n",
    "\n",
    "angle_ranges = pd.cut(result_df['angle'],\n",
    "                     bins=[0, 15, 30, 45, 60, 75, 90],\n",
    "                     labels=['0-15°', '15-30°', '30-45°', '45-60°', '60-75°', '75-90°'])"
   ],
   "id": "524c0c6f2ad9bb6d",
   "outputs": [],
   "execution_count": null
  },
  {
   "metadata": {},
   "cell_type": "code",
   "source": [
    "print(\"\\nIntersections by angle range:\")\n",
    "print(angle_ranges.value_counts().sort_index())"
   ],
   "id": "fff15191e3f8f162",
   "outputs": [],
   "execution_count": null
  },
  {
   "metadata": {},
   "cell_type": "code",
   "source": "# f\"CREATE EDGE intersects FROM (SELECT FROM region WHERE id = '{row['id_left']}' and type='road') TO(SELECT FROM region WHERE id='{row['id_right']}' and type='railway') UNIDIRECTIONAL;\\n\")",
   "id": "97ec70c248a1335b",
   "outputs": [],
   "execution_count": null
  }
 ],
 "metadata": {
  "kernelspec": {
   "display_name": "Python 3",
   "language": "python",
   "name": "python3"
  },
  "language_info": {
   "codemirror_mode": {
    "name": "ipython",
    "version": 2
   },
   "file_extension": ".py",
   "mimetype": "text/x-python",
   "name": "python",
   "nbconvert_exporter": "python",
   "pygments_lexer": "ipython2",
   "version": "2.7.6"
  }
 },
 "nbformat": 4,
 "nbformat_minor": 5
}
